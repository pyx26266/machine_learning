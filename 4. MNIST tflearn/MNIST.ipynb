{
 "cells": [
  {
   "cell_type": "code",
   "execution_count": 7,
   "metadata": {},
   "outputs": [],
   "source": [
    "from __future__ import division\n",
    "from __future__ import print_function\n",
    "from __future__ import absolute_import\n",
    "\n",
    "import tflearn"
   ]
  },
  {
   "cell_type": "code",
   "execution_count": 8,
   "metadata": {
    "collapsed": true
   },
   "outputs": [],
   "source": [
    "import tflearn.datasets.mnist as mnist"
   ]
  },
  {
   "cell_type": "code",
   "execution_count": 9,
   "metadata": {},
   "outputs": [
    {
     "name": "stdout",
     "output_type": "stream",
     "text": [
      "Downloading MNIST...\n",
      "Succesfully downloaded train-images-idx3-ubyte.gz 9912422 bytes.\n",
      "Extracting mnist/train-images-idx3-ubyte.gz\n",
      "Downloading MNIST...\n",
      "Succesfully downloaded train-labels-idx1-ubyte.gz 28881 bytes.\n",
      "Extracting mnist/train-labels-idx1-ubyte.gz\n",
      "Downloading MNIST...\n",
      "Succesfully downloaded t10k-images-idx3-ubyte.gz 1648877 bytes.\n",
      "Extracting mnist/t10k-images-idx3-ubyte.gz\n",
      "Downloading MNIST...\n",
      "Succesfully downloaded t10k-labels-idx1-ubyte.gz 4542 bytes.\n",
      "Extracting mnist/t10k-labels-idx1-ubyte.gz\n"
     ]
    }
   ],
   "source": [
    "X, Y, testX, testY = mnist.load_data(one_hot=True)"
   ]
  },
  {
   "cell_type": "code",
   "execution_count": 14,
   "metadata": {
    "scrolled": true
   },
   "outputs": [],
   "source": [
    "input_layer = tflearn.input_data(shape=[None, 784])\n",
    "dense1 = tflearn.fully_connected(input_layer, 64, activation='tanh',\n",
    "                               regularizer='L2', weight_decay=0.001)\n",
    "dropout1 = tflearn.dropout(dense1, 0.8)\n",
    "dense2 = tflearn.fully_connected(dropout1, 64, activation='tanh',\n",
    "                                regularizer='L2', weight_decay=0.001)\n",
    "dropout2 = tflearn.dropout(dense2, 0.8)\n",
    "softmax = tflearn.fully_connected(dropout2, 10, activation='softmax')\n",
    "\n",
    "sgd = tflearn.SGD(learning_rate=0.1, lr_decay=0.96, decay_step=1000)\n",
    "top_k = tflearn.metrics.Top_k(3)\n",
    "net = tflearn.regression(softmax, optimizer=sgd, metric=top_k,\n",
    "                        loss='categorical_crossentropy')\n"
   ]
  },
  {
   "cell_type": "code",
   "execution_count": 15,
   "metadata": {},
   "outputs": [
    {
     "name": "stdout",
     "output_type": "stream",
     "text": [
      "Training Step: 17199  | total loss: \u001b[1m\u001b[32m0.47234\u001b[0m\u001b[0m | time: 5.709s\n",
      "| SGD | epoch: 020 | loss: 0.47234 - top3: 0.9716 -- iter: 54976/55000\n",
      "Training Step: 17200  | total loss: \u001b[1m\u001b[32m0.43333\u001b[0m\u001b[0m | time: 6.850s\n",
      "| SGD | epoch: 020 | loss: 0.43333 - top3: 0.9744 | val_loss: 0.10868 - val_acc: 0.9951 -- iter: 55000/55000\n",
      "--\n"
     ]
    }
   ],
   "source": [
    "model = tflearn.DNN(net, tensorboard_verbose=0)\n",
    "model.fit(X, Y, n_epoch=20, validation_set=(testX, testY),\n",
    "         show_metric=True, run_id=\"dense_model\")"
   ]
  },
  {
   "cell_type": "code",
   "execution_count": null,
   "metadata": {
    "collapsed": true
   },
   "outputs": [],
   "source": []
  }
 ],
 "metadata": {
  "kernelspec": {
   "display_name": "Python 2",
   "language": "python",
   "name": "python2"
  },
  "language_info": {
   "codemirror_mode": {
    "name": "ipython",
    "version": 2
   },
   "file_extension": ".py",
   "mimetype": "text/x-python",
   "name": "python",
   "nbconvert_exporter": "python",
   "pygments_lexer": "ipython2",
   "version": "2.7.12"
  }
 },
 "nbformat": 4,
 "nbformat_minor": 2
}
