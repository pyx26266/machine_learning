{
  "nbformat": 4,
  "nbformat_minor": 0,
  "metadata": {
    "colab": {
      "name": "Untitled",
      "version": "0.3.2",
      "views": {},
      "default_view": {},
      "provenance": []
    },
    "kernelspec": {
      "name": "python3",
      "display_name": "Python 3"
    },
    "accelerator": "GPU"
  },
  "cells": [
    {
      "metadata": {
        "id": "BNQ5dtgQcQVH",
        "colab_type": "code",
        "colab": {
          "autoexec": {
            "startup": false,
            "wait_interval": 0
          }
        }
      },
      "cell_type": "code",
      "source": [
        "%matplotlib inline\n",
        "import pandas as pd\n",
        "import matplotlib.pyplot as plt\n",
        "import tensorflow as tf\n",
        "import numpy as np"
      ],
      "execution_count": 0,
      "outputs": []
    },
    {
      "metadata": {
        "id": "opprGB2YcU8z",
        "colab_type": "code",
        "colab": {
          "autoexec": {
            "startup": false,
            "wait_interval": 0
          },
          "base_uri": "https://localhost:8080/",
          "height": 51
        },
        "outputId": "40cb3a2a-1c6a-4b8f-f0bf-f044759a758f",
        "executionInfo": {
          "status": "ok",
          "timestamp": 1530366108220,
          "user_tz": -330,
          "elapsed": 3957,
          "user": {
            "displayName": "Aman Kumar",
            "photoUrl": "//lh4.googleusercontent.com/-JF9QQEBTO2A/AAAAAAAAAAI/AAAAAAAAA8Y/ZTHKpkA2j7E/s50-c-k-no/photo.jpg",
            "userId": "106694825581386080678"
          }
        }
      },
      "cell_type": "code",
      "source": [
        "(train_images, train_labels), (test_images, test_labels) = tf.keras.datasets.mnist.load_data()"
      ],
      "execution_count": 2,
      "outputs": [
        {
          "output_type": "stream",
          "text": [
            "Downloading data from https://s3.amazonaws.com/img-datasets/mnist.npz\n",
            "11493376/11490434 [==============================] - 3s 0us/step\n"
          ],
          "name": "stdout"
        }
      ]
    },
    {
      "metadata": {
        "id": "C38ZXAKdcU_V",
        "colab_type": "code",
        "colab": {
          "autoexec": {
            "startup": false,
            "wait_interval": 0
          }
        }
      },
      "cell_type": "code",
      "source": [
        "train_images = train_images.astype('float32') / 255\n",
        "test_images = test_images.astype('float32') / 255\n",
        "\n",
        "train_images = train_images.reshape(-1, 28, 28, 1)\n",
        "test_images = test_images.reshape(-1, 28, 28, 1)\n",
        "\n",
        "train_labels = tf.keras.utils.to_categorical(train_labels, 10)\n",
        "test_labels = tf.keras.utils.to_categorical(test_labels, 10)"
      ],
      "execution_count": 0,
      "outputs": []
    },
    {
      "metadata": {
        "id": "3zdWNHoNcghm",
        "colab_type": "code",
        "colab": {
          "autoexec": {
            "startup": false,
            "wait_interval": 0
          },
          "base_uri": "https://localhost:8080/",
          "height": 34
        },
        "outputId": "bb96d1f5-688b-41e3-ed2d-c56c1c253fa1",
        "executionInfo": {
          "status": "ok",
          "timestamp": 1530350775036,
          "user_tz": -330,
          "elapsed": 1050,
          "user": {
            "displayName": "Aman Kumar",
            "photoUrl": "//lh4.googleusercontent.com/-JF9QQEBTO2A/AAAAAAAAAAI/AAAAAAAAA8Y/ZTHKpkA2j7E/s50-c-k-no/photo.jpg",
            "userId": "106694825581386080678"
          }
        }
      },
      "cell_type": "code",
      "source": [
        "test_images.shape"
      ],
      "execution_count": 0,
      "outputs": [
        {
          "output_type": "execute_result",
          "data": {
            "text/plain": [
              "(10000, 28, 28, 1)"
            ]
          },
          "metadata": {
            "tags": []
          },
          "execution_count": 4
        }
      ]
    },
    {
      "metadata": {
        "id": "HLlNmQqvcVBX",
        "colab_type": "code",
        "colab": {
          "autoexec": {
            "startup": false,
            "wait_interval": 0
          }
        }
      },
      "cell_type": "code",
      "source": [
        "model = tf.keras.Sequential()\n",
        "\n",
        "model.add(tf.keras.layers.Convolution2D(\n",
        "    filters=32, \n",
        "    kernel_size=5, \n",
        "    activation='relu', \n",
        "    padding='same', \n",
        "    input_shape=(28, 28, 1)))\n",
        "model.add(tf.keras.layers.MaxPooling2D(pool_size=(2, 2)))\n",
        "model.add(tf.keras.layers.Dropout(0.2))\n",
        "\n",
        "model.add(tf.keras.layers.Convolution2D(\n",
        "    filters=64,\n",
        "    kernel_size=2,\n",
        "    activation='relu',\n",
        "    padding='same'))\n",
        "model.add(tf.keras.layers.MaxPooling2D(pool_size=(2, 2)))\n",
        "model.add(tf.keras.layers.Dropout(0.2))\n",
        "\n",
        "model.add(tf.keras.layers.Flatten())\n",
        "\n",
        "model.add(tf.keras.layers.Dense(1024, activation='relu'))\n",
        "model.add(tf.keras.layers.BatchNormalization())\n",
        "model.add(tf.keras.layers.Dropout(0.2))\n",
        "\n",
        "model.add(tf.keras.layers.Dense(512, activation='relu'))\n",
        "model.add(tf.keras.layers.BatchNormalization())\n",
        "model.add(tf.keras.layers.Dropout(0.2))\n",
        "\n",
        "model.add(tf.keras.layers.Dense(10, activation='softmax'))"
      ],
      "execution_count": 0,
      "outputs": []
    },
    {
      "metadata": {
        "id": "l6C0zJhccVET",
        "colab_type": "code",
        "colab": {
          "autoexec": {
            "startup": false,
            "wait_interval": 0
          },
          "base_uri": "https://localhost:8080/",
          "height": 612
        },
        "outputId": "749fc654-614d-4698-de2c-095d32a0cad9",
        "executionInfo": {
          "status": "ok",
          "timestamp": 1530366128091,
          "user_tz": -330,
          "elapsed": 1266,
          "user": {
            "displayName": "Aman Kumar",
            "photoUrl": "//lh4.googleusercontent.com/-JF9QQEBTO2A/AAAAAAAAAAI/AAAAAAAAA8Y/ZTHKpkA2j7E/s50-c-k-no/photo.jpg",
            "userId": "106694825581386080678"
          }
        }
      },
      "cell_type": "code",
      "source": [
        "model.summary()"
      ],
      "execution_count": 5,
      "outputs": [
        {
          "output_type": "stream",
          "text": [
            "_________________________________________________________________\n",
            "Layer (type)                 Output Shape              Param #   \n",
            "=================================================================\n",
            "conv2d (Conv2D)              (None, 28, 28, 32)        832       \n",
            "_________________________________________________________________\n",
            "max_pooling2d (MaxPooling2D) (None, 14, 14, 32)        0         \n",
            "_________________________________________________________________\n",
            "dropout (Dropout)            (None, 14, 14, 32)        0         \n",
            "_________________________________________________________________\n",
            "conv2d_1 (Conv2D)            (None, 14, 14, 64)        8256      \n",
            "_________________________________________________________________\n",
            "max_pooling2d_1 (MaxPooling2 (None, 7, 7, 64)          0         \n",
            "_________________________________________________________________\n",
            "dropout_1 (Dropout)          (None, 7, 7, 64)          0         \n",
            "_________________________________________________________________\n",
            "flatten (Flatten)            (None, 3136)              0         \n",
            "_________________________________________________________________\n",
            "dense (Dense)                (None, 1024)              3212288   \n",
            "_________________________________________________________________\n",
            "batch_normalization (BatchNo (None, 1024)              4096      \n",
            "_________________________________________________________________\n",
            "dropout_2 (Dropout)          (None, 1024)              0         \n",
            "_________________________________________________________________\n",
            "dense_1 (Dense)              (None, 512)               524800    \n",
            "_________________________________________________________________\n",
            "batch_normalization_1 (Batch (None, 512)               2048      \n",
            "_________________________________________________________________\n",
            "dropout_3 (Dropout)          (None, 512)               0         \n",
            "_________________________________________________________________\n",
            "dense_2 (Dense)              (None, 10)                5130      \n",
            "=================================================================\n",
            "Total params: 3,757,450\n",
            "Trainable params: 3,754,378\n",
            "Non-trainable params: 3,072\n",
            "_________________________________________________________________\n"
          ],
          "name": "stdout"
        }
      ]
    },
    {
      "metadata": {
        "id": "KXsuNm6ecVGT",
        "colab_type": "code",
        "colab": {
          "autoexec": {
            "startup": false,
            "wait_interval": 0
          }
        }
      },
      "cell_type": "code",
      "source": [
        "model.compile(loss='categorical_crossentropy',\n",
        "            optimizer='adam',\n",
        "             metrics=['accuracy'])"
      ],
      "execution_count": 0,
      "outputs": []
    },
    {
      "metadata": {
        "id": "IcTnDCF3cVIa",
        "colab_type": "code",
        "colab": {
          "autoexec": {
            "startup": false,
            "wait_interval": 0
          },
          "base_uri": "https://localhost:8080/",
          "height": 751
        },
        "outputId": "86d0f534-6d60-4da7-b6e3-54256b3b1872",
        "executionInfo": {
          "status": "ok",
          "timestamp": 1530366363190,
          "user_tz": -330,
          "elapsed": 217358,
          "user": {
            "displayName": "Aman Kumar",
            "photoUrl": "//lh4.googleusercontent.com/-JF9QQEBTO2A/AAAAAAAAAAI/AAAAAAAAA8Y/ZTHKpkA2j7E/s50-c-k-no/photo.jpg",
            "userId": "106694825581386080678"
          }
        }
      },
      "cell_type": "code",
      "source": [
        "model.fit(train_images,\n",
        "         train_labels,\n",
        "         batch_size=128,\n",
        "         epochs=20,\n",
        "         validation_data=(test_images, test_labels))"
      ],
      "execution_count": 7,
      "outputs": [
        {
          "output_type": "stream",
          "text": [
            "Train on 60000 samples, validate on 10000 samples\n",
            "Epoch 1/20\n",
            "60000/60000 [==============================] - 13s 223us/step - loss: 0.1607 - acc: 0.9489 - val_loss: 0.0515 - val_acc: 0.9856\n",
            "Epoch 2/20\n",
            "60000/60000 [==============================] - 11s 179us/step - loss: 0.0632 - acc: 0.9806 - val_loss: 0.0551 - val_acc: 0.9831\n",
            "Epoch 3/20\n",
            "23552/60000 [==========>...................] - ETA: 6s - loss: 0.0519 - acc: 0.9830"
          ],
          "name": "stdout"
        },
        {
          "output_type": "stream",
          "text": [
            "60000/60000 [==============================] - 11s 176us/step - loss: 0.0498 - acc: 0.9842 - val_loss: 0.0266 - val_acc: 0.9906\n",
            "Epoch 4/20\n",
            "60000/60000 [==============================] - 11s 179us/step - loss: 0.0394 - acc: 0.9872 - val_loss: 0.0307 - val_acc: 0.9906\n",
            "Epoch 5/20\n",
            "55936/60000 [==========================>...] - ETA: 0s - loss: 0.0345 - acc: 0.9886"
          ],
          "name": "stdout"
        },
        {
          "output_type": "stream",
          "text": [
            "60000/60000 [==============================] - 11s 177us/step - loss: 0.0355 - acc: 0.9884 - val_loss: 0.0359 - val_acc: 0.9892\n",
            "Epoch 6/20\n",
            "60000/60000 [==============================] - 11s 179us/step - loss: 0.0324 - acc: 0.9895 - val_loss: 0.0348 - val_acc: 0.9887\n",
            "Epoch 7/20\n",
            "60000/60000 [==============================] - 11s 179us/step - loss: 0.0308 - acc: 0.9901 - val_loss: 0.0333 - val_acc: 0.9892\n",
            "Epoch 8/20\n",
            "  128/60000 [..............................] - ETA: 11s - loss: 0.0217 - acc: 0.9922"
          ],
          "name": "stdout"
        },
        {
          "output_type": "stream",
          "text": [
            "60000/60000 [==============================] - 11s 175us/step - loss: 0.0268 - acc: 0.9911 - val_loss: 0.0262 - val_acc: 0.9917\n",
            "Epoch 9/20\n",
            "60000/60000 [==============================] - 10s 175us/step - loss: 0.0251 - acc: 0.9916 - val_loss: 0.0382 - val_acc: 0.9892\n",
            "Epoch 10/20\n",
            "50560/60000 [========================>.....] - ETA: 1s - loss: 0.0238 - acc: 0.9920"
          ],
          "name": "stdout"
        },
        {
          "output_type": "stream",
          "text": [
            "60000/60000 [==============================] - 11s 177us/step - loss: 0.0245 - acc: 0.9919 - val_loss: 0.0265 - val_acc: 0.9910\n",
            "Epoch 11/20\n",
            "60000/60000 [==============================] - 11s 177us/step - loss: 0.0211 - acc: 0.9931 - val_loss: 0.0291 - val_acc: 0.9910\n",
            "Epoch 12/20\n",
            "60000/60000 [==============================] - 11s 177us/step - loss: 0.0207 - acc: 0.9930 - val_loss: 0.0331 - val_acc: 0.9899\n"
          ],
          "name": "stdout"
        },
        {
          "output_type": "stream",
          "text": [
            "Epoch 13/20\n",
            "60000/60000 [==============================] - 11s 177us/step - loss: 0.0174 - acc: 0.9944 - val_loss: 0.0361 - val_acc: 0.9899\n",
            "Epoch 14/20\n",
            "60000/60000 [==============================] - 11s 177us/step - loss: 0.0171 - acc: 0.9946 - val_loss: 0.0231 - val_acc: 0.9935\n",
            "Epoch 15/20\n",
            "44288/60000 [=====================>........] - ETA: 2s - loss: 0.0161 - acc: 0.9947"
          ],
          "name": "stdout"
        },
        {
          "output_type": "stream",
          "text": [
            "60000/60000 [==============================] - 11s 176us/step - loss: 0.0162 - acc: 0.9947 - val_loss: 0.0290 - val_acc: 0.9922\n",
            "Epoch 16/20\n",
            "60000/60000 [==============================] - 11s 175us/step - loss: 0.0178 - acc: 0.9944 - val_loss: 0.0260 - val_acc: 0.9921\n",
            "Epoch 17/20\n",
            "58112/60000 [============================>.] - ETA: 0s - loss: 0.0134 - acc: 0.9955\b\b\b\b\b\b\b\b\b\b\b\b\b\b\b\b\b\b\b\b\b\b\b\b\b\b\b\b\b\b\b\b\b\b\b\b\b\b\b\b\b\b\b\b\b\b\b\b\b\b\b\b\b\b\b\b\b\b\b\b\b\b\b\b\b\b\b\b\b\b\b\b\b\b\b\b\b\b\b\b\b\b\b"
          ],
          "name": "stdout"
        },
        {
          "output_type": "stream",
          "text": [
            "60000/60000 [==============================] - 11s 179us/step - loss: 0.0134 - acc: 0.9955 - val_loss: 0.0243 - val_acc: 0.9934\n",
            "Epoch 18/20\n",
            "60000/60000 [==============================] - 11s 177us/step - loss: 0.0139 - acc: 0.9950 - val_loss: 0.0389 - val_acc: 0.9895\n",
            "Epoch 19/20\n",
            "60000/60000 [==============================] - 11s 177us/step - loss: 0.0126 - acc: 0.9961 - val_loss: 0.0314 - val_acc: 0.9922\n",
            "Epoch 20/20\n",
            " 2816/60000 [>.............................] - ETA: 9s - loss: 0.0148 - acc: 0.9964"
          ],
          "name": "stdout"
        },
        {
          "output_type": "stream",
          "text": [
            "60000/60000 [==============================] - 10s 175us/step - loss: 0.0121 - acc: 0.9961 - val_loss: 0.0244 - val_acc: 0.9930\n"
          ],
          "name": "stdout"
        },
        {
          "output_type": "execute_result",
          "data": {
            "text/plain": [
              "<tensorflow.python.keras.callbacks.History at 0x7fbc97036908>"
            ]
          },
          "metadata": {
            "tags": []
          },
          "execution_count": 7
        }
      ]
    },
    {
      "metadata": {
        "id": "Y08xLGpRcVKw",
        "colab_type": "code",
        "colab": {
          "autoexec": {
            "startup": false,
            "wait_interval": 0
          },
          "base_uri": "https://localhost:8080/",
          "height": 51
        },
        "outputId": "233d3af9-f693-4120-d274-4c7c9bfc8ca1",
        "executionInfo": {
          "status": "ok",
          "timestamp": 1530366380224,
          "user_tz": -330,
          "elapsed": 2102,
          "user": {
            "displayName": "Aman Kumar",
            "photoUrl": "//lh4.googleusercontent.com/-JF9QQEBTO2A/AAAAAAAAAAI/AAAAAAAAA8Y/ZTHKpkA2j7E/s50-c-k-no/photo.jpg",
            "userId": "106694825581386080678"
          }
        }
      },
      "cell_type": "code",
      "source": [
        "model.evaluate(test_images, test_labels)"
      ],
      "execution_count": 9,
      "outputs": [
        {
          "output_type": "stream",
          "text": [
            "10000/10000 [==============================] - 1s 117us/step\n"
          ],
          "name": "stdout"
        },
        {
          "output_type": "execute_result",
          "data": {
            "text/plain": [
              "[0.024353657453311278, 0.993]"
            ]
          },
          "metadata": {
            "tags": []
          },
          "execution_count": 9
        }
      ]
    },
    {
      "metadata": {
        "id": "WTud54kszHzi",
        "colab_type": "code",
        "colab": {
          "autoexec": {
            "startup": false,
            "wait_interval": 0
          }
        }
      },
      "cell_type": "code",
      "source": [
        "model.save('C32xC64xD1024xD512.h5')"
      ],
      "execution_count": 0,
      "outputs": []
    },
    {
      "metadata": {
        "id": "xg7VkseD9cfR",
        "colab_type": "text"
      },
      "cell_type": "markdown",
      "source": [
        "# Predicting Kaggle Digit Recognizer challenge"
      ]
    },
    {
      "metadata": {
        "id": "1Jp229b-4CuB",
        "colab_type": "code",
        "colab": {
          "autoexec": {
            "startup": false,
            "wait_interval": 0
          }
        }
      },
      "cell_type": "code",
      "source": [
        "from google.colab import files\n",
        "files.upload()"
      ],
      "execution_count": 0,
      "outputs": []
    },
    {
      "metadata": {
        "id": "STBuV8ii9rDp",
        "colab_type": "code",
        "colab": {
          "autoexec": {
            "startup": false,
            "wait_interval": 0
          },
          "base_uri": "https://localhost:8080/",
          "height": 170
        },
        "outputId": "29c2226a-7e4f-47e7-fb84-64b5b3348647",
        "executionInfo": {
          "status": "ok",
          "timestamp": 1530366900487,
          "user_tz": -330,
          "elapsed": 6930,
          "user": {
            "displayName": "Aman Kumar",
            "photoUrl": "//lh4.googleusercontent.com/-JF9QQEBTO2A/AAAAAAAAAAI/AAAAAAAAA8Y/ZTHKpkA2j7E/s50-c-k-no/photo.jpg",
            "userId": "106694825581386080678"
          }
        }
      },
      "cell_type": "code",
      "source": [
        "!mkdir -p ~/.kaggle\n",
        "!mv kaggle.json ~/.kaggle\n",
        "!chmod 600 /content/.kaggle/kaggle.json\n",
        "!pip install kaggle"
      ],
      "execution_count": 12,
      "outputs": [
        {
          "output_type": "stream",
          "text": [
            "Requirement already satisfied: kaggle in /usr/local/lib/python3.6/dist-packages (1.3.12)\r\n",
            "Requirement already satisfied: six>=1.10 in /usr/local/lib/python3.6/dist-packages (from kaggle) (1.11.0)\r\n",
            "Requirement already satisfied: python-dateutil in /usr/local/lib/python3.6/dist-packages (from kaggle) (2.5.3)\r\n",
            "Requirement already satisfied: certifi in /usr/local/lib/python3.6/dist-packages (from kaggle) (2018.4.16)\r\n",
            "Requirement already satisfied: tqdm in /usr/local/lib/python3.6/dist-packages (from kaggle) (4.23.4)\r\n",
            "Requirement already satisfied: urllib3<1.23.0,>=1.15 in /usr/local/lib/python3.6/dist-packages (from kaggle) (1.22)\n",
            "Requirement already satisfied: requests in /usr/local/lib/python3.6/dist-packages (from kaggle) (2.18.4)\n",
            "Requirement already satisfied: chardet<3.1.0,>=3.0.2 in /usr/local/lib/python3.6/dist-packages (from requests->kaggle) (3.0.4)\n",
            "Requirement already satisfied: idna<2.7,>=2.5 in /usr/local/lib/python3.6/dist-packages (from requests->kaggle) (2.6)\n"
          ],
          "name": "stdout"
        }
      ]
    },
    {
      "metadata": {
        "id": "oVuS-kNi9rGr",
        "colab_type": "code",
        "colab": {
          "autoexec": {
            "startup": false,
            "wait_interval": 0
          },
          "base_uri": "https://localhost:8080/",
          "height": 68
        },
        "outputId": "f909d5f4-6098-4d98-acf7-5e286fcea9c3",
        "executionInfo": {
          "status": "ok",
          "timestamp": 1530366908195,
          "user_tz": -330,
          "elapsed": 4661,
          "user": {
            "displayName": "Aman Kumar",
            "photoUrl": "//lh4.googleusercontent.com/-JF9QQEBTO2A/AAAAAAAAAAI/AAAAAAAAA8Y/ZTHKpkA2j7E/s50-c-k-no/photo.jpg",
            "userId": "106694825581386080678"
          }
        }
      },
      "cell_type": "code",
      "source": [
        "!kaggle competitions download -c digit-recognizer"
      ],
      "execution_count": 13,
      "outputs": [
        {
          "output_type": "stream",
          "text": [
            "train.csv: Skipping, found more recently modified local copy (use --force to force download)\n",
            "test.csv: Skipping, found more recently modified local copy (use --force to force download)\n",
            "sample_submission.csv: Skipping, found more recently modified local copy (use --force to force download)\n"
          ],
          "name": "stdout"
        }
      ]
    },
    {
      "metadata": {
        "id": "SUABT-WK9rI_",
        "colab_type": "code",
        "colab": {
          "autoexec": {
            "startup": false,
            "wait_interval": 0
          },
          "base_uri": "https://localhost:8080/",
          "height": 34
        },
        "outputId": "08a896af-8e9c-4af4-f4ce-817394f1a941",
        "executionInfo": {
          "status": "ok",
          "timestamp": 1530366915289,
          "user_tz": -330,
          "elapsed": 2525,
          "user": {
            "displayName": "Aman Kumar",
            "photoUrl": "//lh4.googleusercontent.com/-JF9QQEBTO2A/AAAAAAAAAAI/AAAAAAAAA8Y/ZTHKpkA2j7E/s50-c-k-no/photo.jpg",
            "userId": "106694825581386080678"
          }
        }
      },
      "cell_type": "code",
      "source": [
        "!ls /content/.kaggle/competitions/digit-recognizer/"
      ],
      "execution_count": 14,
      "outputs": [
        {
          "output_type": "stream",
          "text": [
            "sample_submission.csv  test.csv  train.csv\r\n"
          ],
          "name": "stdout"
        }
      ]
    },
    {
      "metadata": {
        "id": "GFxasz0I9rLO",
        "colab_type": "code",
        "colab": {
          "autoexec": {
            "startup": false,
            "wait_interval": 0
          },
          "base_uri": "https://localhost:8080/",
          "height": 34
        },
        "outputId": "81483acc-1525-468d-f692-e28a6a802fbf",
        "executionInfo": {
          "status": "ok",
          "timestamp": 1530366936344,
          "user_tz": -330,
          "elapsed": 4312,
          "user": {
            "displayName": "Aman Kumar",
            "photoUrl": "//lh4.googleusercontent.com/-JF9QQEBTO2A/AAAAAAAAAAI/AAAAAAAAA8Y/ZTHKpkA2j7E/s50-c-k-no/photo.jpg",
            "userId": "106694825581386080678"
          }
        }
      },
      "cell_type": "code",
      "source": [
        "test = pd.read_csv(\"/content/.kaggle/competitions/digit-recognizer/test.csv\")\n",
        "print(test.shape)"
      ],
      "execution_count": 17,
      "outputs": [
        {
          "output_type": "stream",
          "text": [
            "(28000, 784)\n"
          ],
          "name": "stdout"
        }
      ]
    },
    {
      "metadata": {
        "id": "WP89YQqX9rNv",
        "colab_type": "code",
        "colab": {
          "autoexec": {
            "startup": false,
            "wait_interval": 0
          },
          "base_uri": "https://localhost:8080/",
          "height": 34
        },
        "outputId": "3baceb87-46e0-425c-a7a1-70a223c3daaf",
        "executionInfo": {
          "status": "ok",
          "timestamp": 1530366942581,
          "user_tz": -330,
          "elapsed": 1174,
          "user": {
            "displayName": "Aman Kumar",
            "photoUrl": "//lh4.googleusercontent.com/-JF9QQEBTO2A/AAAAAAAAAAI/AAAAAAAAA8Y/ZTHKpkA2j7E/s50-c-k-no/photo.jpg",
            "userId": "106694825581386080678"
          }
        }
      },
      "cell_type": "code",
      "source": [
        "test = test.astype(np.float32)/255\n",
        "test = test.values.reshape(-1, 28, 28, 1)\n",
        "print(test.shape)"
      ],
      "execution_count": 18,
      "outputs": [
        {
          "output_type": "stream",
          "text": [
            "(28000, 28, 28, 1)\n"
          ],
          "name": "stdout"
        }
      ]
    },
    {
      "metadata": {
        "id": "GmGnoEVn-AbS",
        "colab_type": "code",
        "colab": {
          "autoexec": {
            "startup": false,
            "wait_interval": 0
          },
          "base_uri": "https://localhost:8080/",
          "height": 34
        },
        "outputId": "4d413e5f-fd13-49cb-bd92-725707cf837e",
        "executionInfo": {
          "status": "ok",
          "timestamp": 1530366973725,
          "user_tz": -330,
          "elapsed": 3167,
          "user": {
            "displayName": "Aman Kumar",
            "photoUrl": "//lh4.googleusercontent.com/-JF9QQEBTO2A/AAAAAAAAAAI/AAAAAAAAA8Y/ZTHKpkA2j7E/s50-c-k-no/photo.jpg",
            "userId": "106694825581386080678"
          }
        }
      },
      "cell_type": "code",
      "source": [
        "pred = model.predict(test)\n",
        "pred = np.argmax(pred, axis=1)\n",
        "pred.shape"
      ],
      "execution_count": 21,
      "outputs": [
        {
          "output_type": "execute_result",
          "data": {
            "text/plain": [
              "(28000,)"
            ]
          },
          "metadata": {
            "tags": []
          },
          "execution_count": 21
        }
      ]
    },
    {
      "metadata": {
        "id": "FVwMgcPL-AeP",
        "colab_type": "code",
        "colab": {
          "autoexec": {
            "startup": false,
            "wait_interval": 0
          },
          "base_uri": "https://localhost:8080/",
          "height": 34
        },
        "outputId": "2835d97a-34a8-4e16-f928-419f1e783821",
        "executionInfo": {
          "status": "ok",
          "timestamp": 1530366975478,
          "user_tz": -330,
          "elapsed": 1091,
          "user": {
            "displayName": "Aman Kumar",
            "photoUrl": "//lh4.googleusercontent.com/-JF9QQEBTO2A/AAAAAAAAAAI/AAAAAAAAA8Y/ZTHKpkA2j7E/s50-c-k-no/photo.jpg",
            "userId": "106694825581386080678"
          }
        }
      },
      "cell_type": "code",
      "source": [
        "pred = pred.reshape(-1, 1)\n",
        "pred.shape"
      ],
      "execution_count": 22,
      "outputs": [
        {
          "output_type": "execute_result",
          "data": {
            "text/plain": [
              "(28000, 1)"
            ]
          },
          "metadata": {
            "tags": []
          },
          "execution_count": 22
        }
      ]
    },
    {
      "metadata": {
        "id": "xOZxtYOT-Lol",
        "colab_type": "code",
        "colab": {
          "autoexec": {
            "startup": false,
            "wait_interval": 0
          },
          "base_uri": "https://localhost:8080/",
          "height": 204
        },
        "outputId": "86d72ed0-b5f6-4e1c-decc-fd31def2c21f",
        "executionInfo": {
          "status": "ok",
          "timestamp": 1530366978822,
          "user_tz": -330,
          "elapsed": 1370,
          "user": {
            "displayName": "Aman Kumar",
            "photoUrl": "//lh4.googleusercontent.com/-JF9QQEBTO2A/AAAAAAAAAAI/AAAAAAAAA8Y/ZTHKpkA2j7E/s50-c-k-no/photo.jpg",
            "userId": "106694825581386080678"
          }
        }
      },
      "cell_type": "code",
      "source": [
        "p = pd.DataFrame(np.hstack((np.arange(1, 28001).reshape(-1, 1), pred)), columns=['ImageId', 'Label'])\n",
        "p.head()"
      ],
      "execution_count": 23,
      "outputs": [
        {
          "output_type": "execute_result",
          "data": {
            "text/html": [
              "<div>\n",
              "<style scoped>\n",
              "    .dataframe tbody tr th:only-of-type {\n",
              "        vertical-align: middle;\n",
              "    }\n",
              "\n",
              "    .dataframe tbody tr th {\n",
              "        vertical-align: top;\n",
              "    }\n",
              "\n",
              "    .dataframe thead th {\n",
              "        text-align: right;\n",
              "    }\n",
              "</style>\n",
              "<table border=\"1\" class=\"dataframe\">\n",
              "  <thead>\n",
              "    <tr style=\"text-align: right;\">\n",
              "      <th></th>\n",
              "      <th>ImageId</th>\n",
              "      <th>Label</th>\n",
              "    </tr>\n",
              "  </thead>\n",
              "  <tbody>\n",
              "    <tr>\n",
              "      <th>0</th>\n",
              "      <td>1</td>\n",
              "      <td>2</td>\n",
              "    </tr>\n",
              "    <tr>\n",
              "      <th>1</th>\n",
              "      <td>2</td>\n",
              "      <td>0</td>\n",
              "    </tr>\n",
              "    <tr>\n",
              "      <th>2</th>\n",
              "      <td>3</td>\n",
              "      <td>9</td>\n",
              "    </tr>\n",
              "    <tr>\n",
              "      <th>3</th>\n",
              "      <td>4</td>\n",
              "      <td>0</td>\n",
              "    </tr>\n",
              "    <tr>\n",
              "      <th>4</th>\n",
              "      <td>5</td>\n",
              "      <td>3</td>\n",
              "    </tr>\n",
              "  </tbody>\n",
              "</table>\n",
              "</div>"
            ],
            "text/plain": [
              "   ImageId  Label\n",
              "0        1      2\n",
              "1        2      0\n",
              "2        3      9\n",
              "3        4      0\n",
              "4        5      3"
            ]
          },
          "metadata": {
            "tags": []
          },
          "execution_count": 23
        }
      ]
    },
    {
      "metadata": {
        "id": "mnjkhW-W-LuZ",
        "colab_type": "code",
        "colab": {
          "autoexec": {
            "startup": false,
            "wait_interval": 0
          }
        }
      },
      "cell_type": "code",
      "source": [
        "p.to_csv('result.csv', index=False)\n",
        "files.download('result.csv')"
      ],
      "execution_count": 0,
      "outputs": []
    }
  ]
}