{
 "cells": [
  {
   "cell_type": "markdown",
   "metadata": {},
   "source": [
    "![Tensorflow](https://www.tensorflow.org/images/apple-touch-icon-180x180.png \"Tensorflow\")\n",
    "# <u>_Linear Regression using Tensorflow and Tensorboard_</u>"
   ]
  },
  {
   "cell_type": "markdown",
   "metadata": {},
   "source": [
    "> ### This is a simple ipython notebook explaining Linear Regression optimizing using _Tensorflow_ and visualizing using _Tensorboard_.\n",
    "\n",
    "> First Step is to load all required library"
   ]
  },
  {
   "cell_type": "code",
   "execution_count": 1,
   "metadata": {
    "collapsed": true
   },
   "outputs": [],
   "source": [
    "import numpy as np\n",
    "import tensorflow as tf\n",
    "from matplotlib import pyplot as plt\n",
    "from sklearn import datasets\n",
    "%matplotlib inline"
   ]
  },
  {
   "cell_type": "markdown",
   "metadata": {},
   "source": [
    "> #### Load the datasets from sklearn.datasets and shuffle the label and features together."
   ]
  },
  {
   "cell_type": "code",
   "execution_count": 2,
   "metadata": {
    "collapsed": true
   },
   "outputs": [],
   "source": [
    "diabetes = datasets.load_diabetes()\n",
    "\n",
    "diabetes = np.random.permutation(np.append(diabetes.data, diabetes.target.reshape(-1, 1), axis=1))"
   ]
  },
  {
   "cell_type": "markdown",
   "metadata": {},
   "source": [
    "> #### Distribute whole dataset into train, test and cross validation in 70:10:20 percentage."
   ]
  },
  {
   "cell_type": "code",
   "execution_count": 3,
   "metadata": {
    "collapsed": true
   },
   "outputs": [],
   "source": [
    "\n",
    "total_set = diabetes.shape[0]\n",
    "train_set = int(0.7 * total_set)\n",
    "test_set  = int(0.1 * total_set)\n",
    "crv_set   = int(0.2 * total_set)\n",
    "\n",
    "train_data  = diabetes[ : train_set, : 10]\n",
    "train_label = diabetes[ : train_set, 10: 11]\n",
    "\n",
    "test_data   = diabetes[ train_set: -crv_set, : 10]\n",
    "test_label  = diabetes[ train_set: -crv_set, 10: 11]\n",
    "\n",
    "crv_data    = diabetes[ train_set+test_set: , : 10]\n",
    "crv_label   = diabetes[ train_set+test_set: , 10: 11]\n"
   ]
  },
  {
   "cell_type": "markdown",
   "metadata": {},
   "source": [
    "> #### Define some constants learning Rate, No. of iterations etc."
   ]
  },
  {
   "cell_type": "code",
   "execution_count": 4,
   "metadata": {
    "collapsed": true
   },
   "outputs": [],
   "source": [
    "m, features = train_data.shape\n",
    "\n",
    "l_rate = 0.5\n",
    "epoch = 1000"
   ]
  },
  {
   "cell_type": "markdown",
   "metadata": {},
   "source": [
    "> #### This is our Tensorflow model as will be visible in Tensorboard Graph. All nodes are under some coustom name space to visualize clean graph."
   ]
  },
  {
   "cell_type": "code",
   "execution_count": 5,
   "metadata": {
    "collapsed": true
   },
   "outputs": [],
   "source": [
    "\n",
    "X = tf.placeholder(tf.float32, name=\"input_X\")\n",
    "Y = tf.placeholder(tf.float32, name=\"input_Y\")\n",
    "\n",
    "W = tf.Variable(tf.zeros([features,1]), name=\"weight\")\n",
    "b = tf.Variable(tf.zeros([1]), name=\"bias\")\n",
    "\n",
    "with tf.name_scope(\"pridicted_Y\"):\n",
    "    y_ = tf.add(tf.matmul(X, W), b)\n",
    "\n",
    "#Our Model - Linear Regression\n",
    "with tf.name_scope(\"loss_function\"):\n",
    "    loss = tf.reduce_mean(tf.square(y_ - Y))\n",
    "    tf.summary.scalar('loss', loss)\n",
    "    \n",
    "#Inbuilt gradient descent funtion\n",
    "optimizer = tf.train.GradientDescentOptimizer(l_rate).minimize(loss)\n",
    "\n",
    "#Initialize all above declared varaibles(Nodes)\n",
    "init = tf.global_variables_initializer()"
   ]
  },
  {
   "cell_type": "markdown",
   "metadata": {},
   "source": [
    "> #### This is summary writer, which will store data to disk for later visulazing in Tensorboard."
   ]
  },
  {
   "cell_type": "code",
   "execution_count": 6,
   "metadata": {
    "collapsed": true
   },
   "outputs": [],
   "source": [
    "merge = tf.summary.merge_all()\n",
    "writer = tf.summary.FileWriter(\"./diabetes/\")"
   ]
  },
  {
   "cell_type": "markdown",
   "metadata": {},
   "source": [
    "> #### This is Our main code Where all magic happens."
   ]
  },
  {
   "cell_type": "code",
   "execution_count": 7,
   "metadata": {},
   "outputs": [
    {
     "name": "stdout",
     "output_type": "stream",
     "text": [
      "training mean sq. error: 2886.061035\n",
      "testing mean sq. error: 3087.264160\n",
      "cross validation mean sq. error: 2836.488770\n"
     ]
    }
   ],
   "source": [
    "#Everything starts with a session in Tensorflow\n",
    "with tf.Session() as sess:\n",
    "    writer.add_graph(sess.graph)\n",
    "    sess.run(init)\n",
    "    #Training our Model\n",
    "    for step in range(epoch):\n",
    "        _, summ = sess.run([optimizer, merge], feed_dict={X: train_data, Y: train_label})\n",
    "        #write every step data to disk\n",
    "        writer.add_summary(summ, step)\n",
    "        \n",
    "    #Testing Our Model for Mean Square Error (Minimum is good)\n",
    "    train_error = sess.run(loss , feed_dict={X: train_data, Y: train_label})\n",
    "    print \"training mean sq. error: %f\" %train_error\n",
    "    \n",
    "    test_error = sess.run(loss , feed_dict={X: test_data, Y: test_label})\n",
    "    print \"testing mean sq. error: %f\" %test_error \n",
    "    \n",
    "    crv_error = sess.run(loss , feed_dict={X: crv_data, Y: crv_label})\n",
    "    print \"cross validation mean sq. error: %f\" %crv_error     "
   ]
  },
  {
   "cell_type": "code",
   "execution_count": null,
   "metadata": {
    "collapsed": true
   },
   "outputs": [],
   "source": []
  }
 ],
 "metadata": {
  "kernelspec": {
   "display_name": "Python 2",
   "language": "python",
   "name": "python2"
  },
  "language_info": {
   "codemirror_mode": {
    "name": "ipython",
    "version": 2
   },
   "file_extension": ".py",
   "mimetype": "text/x-python",
   "name": "python",
   "nbconvert_exporter": "python",
   "pygments_lexer": "ipython2",
   "version": "2.7.12"
  }
 },
 "nbformat": 4,
 "nbformat_minor": 2
}
