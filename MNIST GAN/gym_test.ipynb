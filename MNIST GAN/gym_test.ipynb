{
 "cells": [
  {
   "cell_type": "code",
   "execution_count": 2,
   "metadata": {},
   "outputs": [],
   "source": [
    "import gym\n",
    "import random\n",
    "import numpy as np\n",
    "import tflearn\n",
    "from tflearn.layers.core import input_data, dropout, fully_connected\n",
    "from tflearn.layers.estimator import regression\n",
    "from statistics import median, mean\n",
    "from collections import Counter"
   ]
  },
  {
   "cell_type": "code",
   "execution_count": 3,
   "metadata": {},
   "outputs": [
    {
     "name": "stdout",
     "output_type": "stream",
     "text": [
      "\u001b[33mWARN: gym.spaces.Box autodetected dtype as <class 'numpy.float32'>. Please provide explicit dtype.\u001b[0m\n"
     ]
    }
   ],
   "source": [
    "lr = 1e-3\n",
    "env = gym.make(\"CartPole-v0\")\n",
    "env.mode = 'human'\n",
    "env.reset()\n",
    "goal_steps = 500\n",
    "score_req = 100\n",
    "initial_games = 60000"
   ]
  },
  {
   "cell_type": "code",
   "execution_count": 4,
   "metadata": {},
   "outputs": [
    {
     "ename": "AttributeError",
     "evalue": "'NoneType' object has no attribute 'window'",
     "output_type": "error",
     "traceback": [
      "\u001b[0;31m---------------------------------------------------------------------------\u001b[0m",
      "\u001b[0;31mAttributeError\u001b[0m                            Traceback (most recent call last)",
      "\u001b[0;32m<ipython-input-4-492d01f866e9>\u001b[0m in \u001b[0;36m<module>\u001b[0;34m()\u001b[0m\n\u001b[1;32m     23\u001b[0m     \u001b[0;32mif\u001b[0m \u001b[0mhuman_agent_action\u001b[0m \u001b[0;34m==\u001b[0m \u001b[0ma\u001b[0m\u001b[0;34m:\u001b[0m\u001b[0;34m\u001b[0m\u001b[0m\n\u001b[1;32m     24\u001b[0m         \u001b[0mhuman_agent_action\u001b[0m \u001b[0;34m=\u001b[0m \u001b[0;36m0\u001b[0m\u001b[0;34m\u001b[0m\u001b[0m\n\u001b[0;32m---> 25\u001b[0;31m \u001b[0menv\u001b[0m\u001b[0;34m.\u001b[0m\u001b[0munwrapped\u001b[0m\u001b[0;34m.\u001b[0m\u001b[0mviewer\u001b[0m\u001b[0;34m.\u001b[0m\u001b[0mwindow\u001b[0m\u001b[0;34m.\u001b[0m\u001b[0mon_key_press\u001b[0m \u001b[0;34m=\u001b[0m \u001b[0mkey_press\u001b[0m\u001b[0;34m\u001b[0m\u001b[0m\n\u001b[0m\u001b[1;32m     26\u001b[0m \u001b[0menv\u001b[0m\u001b[0;34m.\u001b[0m\u001b[0munwrapped\u001b[0m\u001b[0;34m.\u001b[0m\u001b[0mviewer\u001b[0m\u001b[0;34m.\u001b[0m\u001b[0mwindow\u001b[0m\u001b[0;34m.\u001b[0m\u001b[0mon_key_release\u001b[0m \u001b[0;34m=\u001b[0m \u001b[0mkey_release\u001b[0m\u001b[0;34m\u001b[0m\u001b[0m\n\u001b[1;32m     27\u001b[0m \u001b[0;34m\u001b[0m\u001b[0m\n",
      "\u001b[0;31mAttributeError\u001b[0m: 'NoneType' object has no attribute 'window'"
     ]
    }
   ],
   "source": [
    "if not hasattr(env.action_space, 'n'):\n",
    "    raise Exception('Keyboard agent only supports discrete action spaces')\n",
    "ACTIONS = env.action_space.n\n",
    "SKIP_CONTROL = 0    # Use previous control decision SKIP_CONTROL times, that's how you\n",
    "                    # can test what skip is still usable.\n",
    "\n",
    "human_agent_action = 0\n",
    "human_wants_restart = False\n",
    "human_sets_pause = False\n",
    "\n",
    "def key_press(key, mod):\n",
    "    global human_agent_action, human_wants_restart, human_sets_pause\n",
    "    if key==0xff0d: human_wants_restart = True\n",
    "    if key==32: human_sets_pause = not human_sets_pause\n",
    "    a = int( key - ord('0') )\n",
    "    if a <= 0 or a >= ACTIONS: return\n",
    "    human_agent_action = a\n",
    "\n",
    "def key_release(key, mod):\n",
    "    global human_agent_action\n",
    "    a = int( key - ord('0') )\n",
    "    if a <= 0 or a >= ACTIONS: return\n",
    "    if human_agent_action == a:\n",
    "        human_agent_action = 0\n",
    "env.unwrapped.viewer.window.on_key_press = key_press\n",
    "env.unwrapped.viewer.window.on_key_release = key_release\n",
    "        \n",
    "def some_random_games_first():\n",
    "    global human_agent_action\n",
    "    for episode in range(10):\n",
    "        env.reset()\n",
    "        for t in range(200):\n",
    "            env.render()\n",
    "            action = human_agent_action\n",
    "            observation, reward, done, info = env.step(action)\n",
    "            \n",
    "            if done:\n",
    "                break;"
   ]
  },
  {
   "cell_type": "code",
   "execution_count": 187,
   "metadata": {},
   "outputs": [],
   "source": [
    "some_random_games_first()"
   ]
  },
  {
   "cell_type": "code",
   "execution_count": 3,
   "metadata": {},
   "outputs": [],
   "source": [
    "def initial_population():\n",
    "    training_data = []\n",
    "    scores = []\n",
    "    accepted_scores = []\n",
    "    for _ in range(initial_games):\n",
    "        score = 0\n",
    "        game_memory = []\n",
    "        prev_observation = []\n",
    "        for _ in range(goal_steps):\n",
    "            action = random.randrange(0, 2)\n",
    "            observation, reward, done, info = env.step(action)\n",
    "            if len(prev_observation) > 0:\n",
    "                game_memory.append([prev_observation, action])\n",
    "            prev_observation = observation\n",
    "            score += reward\n",
    "            if done:\n",
    "                break\n",
    "        if score >= score_req:\n",
    "            accepted_scores.append(score)\n",
    "            for data in game_memory:\n",
    "                if data[1] == 1:\n",
    "                    output = [0, 1]\n",
    "                elif data[1] == 0:\n",
    "                    output = [1, 0]\n",
    "                    \n",
    "                training_data.append([data[0], output])\n",
    "        env.reset()\n",
    "        scores.append(score)\n",
    "    traning_data_save = np.array(training_data)\n",
    "    np.save('saved.npy', traning_data_save)\n",
    "    print('Average accepted score:',mean(accepted_scores))\n",
    "    print('Median score for accepted scores:',median(accepted_scores))\n",
    "    print(Counter(accepted_scores))\n",
    "    \n",
    "    return training_data            "
   ]
  },
  {
   "cell_type": "code",
   "execution_count": 4,
   "metadata": {},
   "outputs": [],
   "source": [
    "def neural_network_model(input_size):\n",
    "\n",
    "    network = input_data(shape=[None, input_size, 1], name='input')\n",
    "\n",
    "    network = fully_connected(network, 128, activation='relu')\n",
    "    network = dropout(network, 0.8)\n",
    "\n",
    "    network = fully_connected(network, 256, activation='relu')\n",
    "    network = dropout(network, 0.8)\n",
    "\n",
    "    network = fully_connected(network, 512, activation='relu')\n",
    "    network = dropout(network, 0.8)\n",
    "\n",
    "    network = fully_connected(network, 256, activation='relu')\n",
    "    network = dropout(network, 0.8)\n",
    "\n",
    "    network = fully_connected(network, 128, activation='relu')\n",
    "    network = dropout(network, 0.8)\n",
    "\n",
    "    network = fully_connected(network, 2, activation='softmax')\n",
    "    network = regression(network, optimizer='adam', learning_rate=lr, loss='categorical_crossentropy', name='targets')\n",
    "    model = tflearn.DNN(network, tensorboard_dir='log')\n",
    "\n",
    "    return model\n",
    "\n",
    "\n",
    "def train_model(training_data, model=False):\n",
    "\n",
    "    X = np.array([i[0] for i in training_data]).reshape(-1,len(training_data[0][0]),1)\n",
    "    y = [i[1] for i in training_data]\n",
    "\n",
    "    if not model:\n",
    "        model = neural_network_model(input_size = len(X[0]))\n",
    "    \n",
    "    model.fit({'input': X}, {'targets': y}, n_epoch=5, snapshot_step=500, show_metric=True, run_id='openai_learning')\n",
    "    return model"
   ]
  },
  {
   "cell_type": "code",
   "execution_count": 5,
   "metadata": {},
   "outputs": [
    {
     "name": "stdout",
     "output_type": "stream",
     "text": [
      "Average accepted score: 109.53333333333333\n",
      "Median score for accepted scores: 106.0\n",
      "Counter({102.0: 5, 101.0: 3, 106.0: 3, 100.0: 3, 132.0: 2, 107.0: 2, 110.0: 2, 111.0: 2, 115.0: 1, 105.0: 1, 104.0: 1, 112.0: 1, 117.0: 1, 113.0: 1, 114.0: 1, 155.0: 1})\n"
     ]
    }
   ],
   "source": [
    "training_data = initial_population()"
   ]
  },
  {
   "cell_type": "code",
   "execution_count": 6,
   "metadata": {},
   "outputs": [
    {
     "name": "stdout",
     "output_type": "stream",
     "text": [
      "Training Step: 254  | total loss: \u001b[1m\u001b[32m0.64661\u001b[0m\u001b[0m | time: 0.497s\n",
      "| Adam | epoch: 005 | loss: 0.64661 - acc: 0.6358 -- iter: 3200/3256\n",
      "Training Step: 255  | total loss: \u001b[1m\u001b[32m0.65067\u001b[0m\u001b[0m | time: 0.508s\n",
      "| Adam | epoch: 005 | loss: 0.65067 - acc: 0.6269 -- iter: 3256/3256\n",
      "--\n"
     ]
    }
   ],
   "source": [
    "model = train_model(training_data)"
   ]
  },
  {
   "cell_type": "code",
   "execution_count": 7,
   "metadata": {},
   "outputs": [
    {
     "name": "stdout",
     "output_type": "stream",
     "text": [
      "Average Score: 188.7\n",
      "choice 1:0.4854266030736619  choice 0:0.5145733969263381\n",
      "100\n"
     ]
    }
   ],
   "source": [
    "scores = []\n",
    "choices = []\n",
    "for each_game in range(10):\n",
    "    score = 0\n",
    "    game_memory = []\n",
    "    prev_obs = []\n",
    "    env.reset()\n",
    "    for _ in range(goal_steps):\n",
    "        env.render()\n",
    "\n",
    "        if len(prev_obs)==0:\n",
    "            action = random.randrange(0,2)\n",
    "        else:\n",
    "            action = np.argmax(model.predict(prev_obs.reshape(-1,len(prev_obs),1))[0])\n",
    "\n",
    "        choices.append(action)\n",
    "                \n",
    "        new_observation, reward, done, info = env.step(action)\n",
    "        prev_obs = new_observation\n",
    "        game_memory.append([new_observation, action])\n",
    "        score+=reward\n",
    "        if done: break\n",
    "\n",
    "    scores.append(score)\n",
    "\n",
    "print('Average Score:',sum(scores)/len(scores))\n",
    "print('choice 1:{}  choice 0:{}'.format(choices.count(1)/len(choices),choices.count(0)/len(choices)))\n",
    "print(score_req)"
   ]
  },
  {
   "cell_type": "code",
   "execution_count": 174,
   "metadata": {},
   "outputs": [
    {
     "name": "stdout",
     "output_type": "stream",
     "text": [
      "(array([-0.0440395 , -0.208931  ,  0.01553179,  0.32648553]), 1.0, False, {})\n",
      "(array([-0.04821812, -0.01403358,  0.0220615 ,  0.03874084]), 1.0, False, {})\n",
      "(array([-0.04849879,  0.18076517,  0.02283632, -0.24690064]), 1.0, False, {})\n",
      "(array([-0.04488349,  0.37555366,  0.01789831, -0.53229389]), 1.0, False, {})\n",
      "(array([-0.03737241,  0.57041935,  0.00725243, -0.8192838 ]), 1.0, False, {})\n",
      "(array([-0.02596403,  0.7654413 , -0.00913325, -1.10967682]), 1.0, False, {})\n",
      "(array([-0.0106552 ,  0.96068206, -0.03132678, -1.40521089]), 1.0, False, {})\n",
      "(array([ 0.00855844,  1.15617862, -0.059431  , -1.70752042]), 1.0, False, {})\n",
      "(array([ 0.03168201,  0.96178822, -0.09358141, -1.43391204]), 1.0, False, {})\n",
      "(array([ 0.05091778,  0.76793695, -0.12225965, -1.17188024]), 1.0, False, {})\n",
      "(array([ 0.06627652,  0.96441764, -0.14569726, -1.50025621]), 1.0, False, {})\n",
      "(array([ 0.08556487,  1.1609777 , -0.17570238, -1.83465606]), 1.0, False, {})\n",
      "(array([ 0.10878442,  1.35755443, -0.2123955 , -2.17637254]), 1.0, True, {})\n",
      "\u001b[33mWARN: You are calling 'step()' even though this environment has already returned done = True. You should always call 'reset()' once you receive 'done = True' -- any further steps are undefined behavior.\u001b[0m\n",
      "(array([ 0.13593551,  1.16503959, -0.25592295, -1.95606519]), 0.0, True, {})\n",
      "(array([ 0.1592363 ,  1.36180616, -0.29504426, -2.31602473]), 0.0, True, {})\n",
      "(array([ 0.18647243,  1.5581815 , -0.34136475, -2.68334942]), 0.0, True, {})\n",
      "(array([ 0.21763606,  1.75387111, -0.39503174, -3.05836989]), 0.0, True, {})\n",
      "(array([ 0.25271348,  1.94846656, -0.45619914, -3.44092494]), 0.0, True, {})\n",
      "(array([ 0.29168281,  2.1414314 , -0.52501764, -3.83028993]), 0.0, True, {})\n",
      "(array([ 0.33451144,  1.94889475, -0.60162343, -3.72774372]), 0.0, True, {})\n",
      "(array([ 0.37348933,  1.75728273, -0.67617831, -3.65718976]), 0.0, True, {})\n",
      "(array([ 0.40863499,  1.94583548, -0.7493221 , -4.06177815]), 0.0, True, {})\n",
      "(array([ 0.4475517 ,  1.75343381, -0.83055767, -4.05073352]), 0.0, True, {})\n",
      "(array([ 0.48262037,  1.93657368, -0.91157234, -4.45307788]), 0.0, True, {})\n",
      "(array([ 0.52135185,  1.74199873, -1.00063389, -4.50670861]), 0.0, True, {})\n",
      "(array([ 0.55619182,  1.91783891, -1.09076807, -4.89657129]), 0.0, True, {})\n",
      "(array([ 0.5945486 ,  1.71927406, -1.18869949, -5.01979682]), 0.0, True, {})\n",
      "(array([ 0.62893408,  1.51892461, -1.28909543, -5.18053944]), 0.0, True, {})\n",
      "(array([ 0.65931257,  1.68173266, -1.39270622, -5.53083963]), 0.0, True, {})\n",
      "(array([ 0.69294723,  1.83884752, -1.50332301, -5.86193907]), 0.0, True, {})\n",
      "(array([ 0.72972418,  1.62669514, -1.62056179, -6.13381444]), 0.0, True, {})\n",
      "(array([ 0.76225808,  1.41001545, -1.74323808, -6.44361853]), 0.0, True, {})\n",
      "(array([ 0.79045839,  1.18830733, -1.87211045, -6.79032194]), 0.0, True, {})\n",
      "(array([ 0.81422454,  1.32714359, -2.00791689, -7.00927168]), 0.0, True, {})\n",
      "(array([ 0.84076741,  1.46505758, -2.14810232, -7.18805293]), 0.0, True, {})\n",
      "(array([ 0.87006856,  1.6042321 , -2.29186338, -7.32047051]), 0.0, True, {})\n",
      "(array([ 0.9021532 ,  1.74707675, -2.43827279, -7.39983823]), 0.0, True, {})\n",
      "(array([ 0.93709474,  1.89601499, -2.58626956, -7.41959108]), 0.0, True, {})\n",
      "(array([ 0.97501504,  1.67073439, -2.73466138, -7.8617347 ]), 0.0, True, {})\n",
      "(array([ 1.00842972,  1.44907438, -2.89189607, -8.28343666]), 0.0, True, {})\n",
      "(array([ 1.03741121,  1.62344126, -3.05756481, -8.10264801]), 0.0, True, {})\n",
      "(array([ 1.06988004,  1.81189087, -3.21961777, -7.84564606]), 0.0, True, {})\n",
      "(array([ 1.10611785,  1.62264838, -3.37653069, -8.10573005]), 0.0, True, {})\n",
      "(array([ 1.13857082,  1.83509618, -3.53864529, -7.72737455]), 0.0, True, {})\n",
      "(array([ 1.17527275,  1.66942903, -3.69319278, -7.84285271]), 0.0, True, {})\n",
      "(array([ 1.20866133,  1.51525451, -3.85004983, -7.88574448]), 0.0, True, {})\n",
      "(array([ 1.23896642,  1.74967522, -4.00776472, -7.42743266]), 0.0, True, {})\n",
      "(array([ 1.27395992,  1.60862501, -4.15631338, -7.3404947 ]), 0.0, True, {})\n",
      "(array([ 1.30613242,  1.84248129, -4.30312327, -6.90562668]), 0.0, True, {})\n",
      "(array([ 1.34298205,  2.07142208, -4.4412358 , -6.49925158]), 0.0, True, {})\n",
      "(array([ 1.38441049,  2.29477855, -4.57122084, -6.12625697]), 0.0, True, {})\n",
      "(array([ 1.43030606,  2.51253191, -4.69374597, -5.78922483]), 0.0, True, {})\n",
      "(array([ 1.4805567 ,  2.36142223, -4.80953047, -5.49950138]), 0.0, True, {})\n",
      "(array([ 1.52778514,  2.20557947, -4.9195205 , -5.18421495]), 0.0, True, {})\n",
      "(array([ 1.57189673,  2.40920585, -5.0232048 , -4.95931399]), 0.0, True, {})\n",
      "(array([ 1.62008085,  2.24372868, -5.12239108, -4.603488  ]), 0.0, True, {})\n",
      "(array([ 1.66495542,  2.07284262, -5.21446084, -4.23167907]), 0.0, True, {})\n",
      "(array([ 1.70641228,  1.89687854, -5.29909442, -3.84694022]), 0.0, True, {})\n",
      "(array([ 1.74434985,  2.08772756, -5.37603322, -3.76059297]), 0.0, True, {})\n",
      "(array([ 1.7861044 ,  2.27811428, -5.45124508, -3.70490865]), 0.0, True, {})\n",
      "(array([ 1.83166668,  2.09314826, -5.52534326, -3.30072623]), 0.0, True, {})\n",
      "(array([ 1.87352965,  2.28189144, -5.59135778, -3.30427587]), 0.0, True, {})\n",
      "(array([ 1.91916748,  2.47112802, -5.6574433 , -3.33531122]), 0.0, True, {})\n",
      "(array([ 1.96859004,  2.28034321, -5.72414952, -2.93116091]), 0.0, True, {})\n",
      "(array([ 2.0141969 ,  2.46956778, -5.78277274, -3.0158599 ]), 0.0, True, {})\n",
      "(array([ 2.06358826,  2.65970737, -5.84308994, -3.1250407 ]), 0.0, True, {})\n",
      "(array([ 2.1167824 ,  2.85082265, -5.90559075, -3.25914529]), 0.0, True, {})\n",
      "(array([ 2.17379886,  2.65653871, -5.97077366, -2.87985558]), 0.0, True, {})\n",
      "(array([ 2.22692963,  2.46106029, -6.02837077, -2.51046891]), 0.0, True, {})\n",
      "(array([ 2.27615084,  2.65333994, -6.07858015, -2.71546795]), 0.0, True, {})\n",
      "(array([ 2.32921764,  2.846487  , -6.13288951, -2.93941025]), 0.0, True, {})\n",
      "(array([ 2.38614738,  2.65082501, -6.19167771, -2.60520506]), 0.0, True, {})\n",
      "(array([ 2.43916388,  2.84512828, -6.24378181, -2.86857485]), 0.0, True, {})\n",
      "(array([ 2.49606644,  3.03997984, -6.30115331, -3.14904368]), 0.0, True, {})\n",
      "(array([ 2.55686604,  3.23518099, -6.36413418, -3.44708045]), 0.0, True, {})\n",
      "(array([ 2.62156966,  3.04037072, -6.43307579, -3.17959492]), 0.0, True, {})\n",
      "(array([ 2.68237707,  3.23581849, -6.49666769, -3.51338233]), 0.0, True, {})\n",
      "(array([ 2.74709344,  3.04175196, -6.56693534, -3.29117895]), 0.0, True, {})\n",
      "(array([ 2.80792848,  2.84863346, -6.63275892, -3.0953923 ]), 0.0, True, {})\n",
      "(array([ 2.86490115,  2.65657326, -6.69466676, -2.92542023]), 0.0, True, {})\n",
      "(array([ 2.91803262,  2.85133332, -6.75317517, -3.31076564]), 0.0, True, {})\n",
      "(array([ 2.97505928,  3.04450404, -6.81939048, -3.7022502 ]), 0.0, True, {})\n",
      "(array([ 3.03594936,  3.23544633, -6.89343548, -4.09866451]), 0.0, True, {})\n",
      "(array([ 3.10065829,  3.42339485, -6.97540877, -4.49818485]), 0.0, True, {})\n",
      "(array([ 3.16912619,  3.22852871, -7.06537247, -4.46081014]), 0.0, True, {})\n",
      "(array([ 3.23369676,  3.0339665 , -7.15458867, -4.46100497]), 0.0, True, {})\n",
      "(array([ 3.29437609,  3.2135994 , -7.24380877, -4.85944241]), 0.0, True, {})\n",
      "(array([ 3.35864808,  3.01604058, -7.34099762, -4.9305853 ]), 0.0, True, {})\n",
      "(array([ 3.41896889,  3.18712694, -7.43960933, -5.31269124]), 0.0, True, {})\n",
      "(array([ 3.48271143,  2.98450713, -7.54586315, -5.459443  ]), 0.0, True, {})\n",
      "(array([ 3.54240157,  2.77944508, -7.65505201, -5.64631472]), 0.0, True, {})\n",
      "(array([ 3.59799047,  2.93585756, -7.76797831, -5.98088204]), 0.0, True, {})\n",
      "(array([ 3.65670763,  3.08649633, -7.88759595, -6.29320462]), 0.0, True, {})\n",
      "(array([ 3.71843755,  3.23189315, -8.01346004, -6.57970879]), 0.0, True, {})\n",
      "(array([ 3.78307541,  3.00873856, -8.14505422, -6.92313452]), 0.0, True, {})\n",
      "(array([ 3.84325019,  2.78022369, -8.28351691, -7.30313663]), 0.0, True, {})\n",
      "(array([ 3.89885466,  2.54649958, -8.42957964, -7.71643051]), 0.0, True, {})\n",
      "(array([ 3.94978465,  2.6794943 , -8.58390825, -7.85446657]), 0.0, True, {})\n",
      "(array([ 4.00337454,  2.81704658, -8.74099758, -7.93597936]), 0.0, True, {})\n",
      "(array([ 4.05971547,  2.96209415, -8.89971717, -7.95304824]), 0.0, True, {})\n"
     ]
    }
   ],
   "source": [
    "for _ in range(100):\n",
    "    print(env.step(random.randrange(0, 2)))"
   ]
  },
  {
   "cell_type": "code",
   "execution_count": 173,
   "metadata": {},
   "outputs": [
    {
     "data": {
      "text/plain": [
       "array([-0.04376754, -0.01359789,  0.01494932,  0.02912367])"
      ]
     },
     "execution_count": 173,
     "metadata": {},
     "output_type": "execute_result"
    }
   ],
   "source": [
    "env.reset()"
   ]
  },
  {
   "cell_type": "code",
   "execution_count": 176,
   "metadata": {},
   "outputs": [
    {
     "name": "stdout",
     "output_type": "stream",
     "text": [
      "1\n"
     ]
    },
    {
     "data": {
      "text/plain": [
       "1"
      ]
     },
     "execution_count": 176,
     "metadata": {},
     "output_type": "execute_result"
    }
   ],
   "source": [
    "eval(input(''))"
   ]
  },
  {
   "cell_type": "code",
   "execution_count": null,
   "metadata": {},
   "outputs": [],
   "source": []
  }
 ],
 "metadata": {
  "kernelspec": {
   "display_name": "Python 3",
   "language": "python",
   "name": "python3"
  },
  "language_info": {
   "codemirror_mode": {
    "name": "ipython",
    "version": 3
   },
   "file_extension": ".py",
   "mimetype": "text/x-python",
   "name": "python",
   "nbconvert_exporter": "python",
   "pygments_lexer": "ipython3",
   "version": "3.6.5"
  }
 },
 "nbformat": 4,
 "nbformat_minor": 2
}
