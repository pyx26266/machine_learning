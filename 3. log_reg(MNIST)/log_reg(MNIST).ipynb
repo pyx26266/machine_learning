{
 "cells": [
  {
   "cell_type": "markdown",
   "metadata": {},
   "source": [
    "![Tensorflow](https://www.tensorflow.org/images/apple-touch-icon-180x180.png \"Tensorflow\")\n",
    "\n",
    "## _Logistic Regression using Tensorflow and Tensorboard_\n",
    "> #### Using MNIST Dataset"
   ]
  },
  {
   "cell_type": "code",
   "execution_count": 1,
   "metadata": {
    "collapsed": true
   },
   "outputs": [],
   "source": [
    "import numpy as np\n",
    "import matplotlib.pyplot as plt\n",
    "import tensorflow as tf\n",
    "from tensorflow.examples.tutorials.mnist import input_data\n",
    "from __future__ import print_function\n",
    "%matplotlib inline"
   ]
  },
  {
   "cell_type": "code",
   "execution_count": 2,
   "metadata": {},
   "outputs": [
    {
     "name": "stdout",
     "output_type": "stream",
     "text": [
      "Extracting MNIST_data/train-images-idx3-ubyte.gz\n",
      "Extracting MNIST_data/train-labels-idx1-ubyte.gz\n",
      "Extracting MNIST_data/t10k-images-idx3-ubyte.gz\n",
      "Extracting MNIST_data/t10k-labels-idx1-ubyte.gz\n"
     ]
    }
   ],
   "source": [
    "mnist = input_data.read_data_sets(\"MNIST_data/\", one_hot=True)"
   ]
  },
  {
   "cell_type": "code",
   "execution_count": 3,
   "metadata": {
    "collapsed": true
   },
   "outputs": [],
   "source": [
    "epoch = 4001\n",
    "learning_rate = 0.5\n",
    "weights_original = []"
   ]
  },
  {
   "cell_type": "code",
   "execution_count": 4,
   "metadata": {
    "collapsed": true
   },
   "outputs": [],
   "source": [
    "X = tf.placeholder(dtype=tf.float32, shape=[None, 784], name='features')\n",
    "Y = tf.placeholder(dtype=tf.float32, shape=[None, 10], name='labels')\n",
    "\n",
    "W = tf.Variable(tf.zeros([784, 10]), name='weights')\n",
    "b = tf.Variable(tf.zeros([10]), name='bias')\n",
    "\n",
    "with tf.name_scope('predicted_label'):\n",
    "    # sigmoid(X * W + b)\n",
    "    y_pred = tf.add(tf.matmul(X, W), b)\n",
    "\n",
    "with tf.name_scope('cross_entropy'):\n",
    "    loss = tf.reduce_mean(tf.nn.softmax_cross_entropy_with_logits(logits=y_pred, labels=Y))\n",
    "    tf.summary.scalar('loss', loss)"
   ]
  },
  {
   "cell_type": "code",
   "execution_count": 5,
   "metadata": {
    "collapsed": true
   },
   "outputs": [],
   "source": [
    "optimizer = tf.train.GradientDescentOptimizer(learning_rate).minimize(loss)\n",
    "\n",
    "# Accuracy checking model\n",
    "with tf.name_scope('accuracy_check'):\n",
    "    correct_prediction = tf.equal(tf.argmax(y_pred, 1, name='maxOfPredicted'), \n",
    "                                        tf.argmax(Y, 1), name='maxOfBinLabel')\n",
    "    accuracy = tf.reduce_mean(tf.cast(correct_prediction, tf.float32))\n",
    "\n",
    "init = tf.global_variables_initializer()\n"
   ]
  },
  {
   "cell_type": "code",
   "execution_count": 6,
   "metadata": {
    "collapsed": true
   },
   "outputs": [],
   "source": [
    "merge = tf.summary.merge_all()\n",
    "writer = tf.summary.FileWriter('./tmp')"
   ]
  },
  {
   "cell_type": "code",
   "execution_count": 7,
   "metadata": {},
   "outputs": [
    {
     "name": "stdout",
     "output_type": "stream",
     "text": [
      "test accuracy =  92.0 %\n",
      "cross validation accuracy =  93.0 %\n"
     ]
    }
   ],
   "source": [
    "weights_updated = []\n",
    "with tf.Session() as sess:\n",
    "    writer.add_graph(sess.graph)\n",
    "    sess.run(init)\n",
    "    weights_original = np.array(W.eval())\n",
    "    for step in range(epoch):\n",
    "        batch_x, batch_y = mnist.train.next_batch(100)\n",
    "        _, summ = sess.run([optimizer, merge], feed_dict={\n",
    "            X: batch_x, Y: batch_y\n",
    "        })\n",
    "        writer.add_summary(summ, step)\n",
    "    fd_test = {X: mnist.test.images, Y: mnist.test.labels}\n",
    "    fd_cv = {X: mnist.validation.images, Y: mnist.validation.labels}\n",
    "    \n",
    "    print('test accuracy = ', np.round(sess.run(accuracy, fd_test)*100), '%')\n",
    "    print('cross validation accuracy = ', np.round(sess.run(accuracy, fd_cv)*100), '%')\n",
    "    weights_updated = np.array(W.eval())"
   ]
  },
  {
   "cell_type": "code",
   "execution_count": 8,
   "metadata": {},
   "outputs": [
    {
     "name": "stdout",
     "output_type": "stream",
     "text": [
      "Random weights.\n"
     ]
    },
    {
     "data": {
      "image/png": "[encoded data removed]",
      "text/plain": [
       "<matplotlib.figure.Figure at 0x7f2205067f10>"
      ]
     },
     "metadata": {},
     "output_type": "display_data"
    },
    {
     "name": "stdout",
     "output_type": "stream",
     "text": [
      "Optimised weights.\n"
     ]
    },
    {
     "data": {
      "image/png": "[encoded data removed]",
      "text/plain": [
       "<matplotlib.figure.Figure at 0x7f2205096dd0>"
      ]
     },
     "metadata": {},
     "output_type": "display_data"
    }
   ],
   "source": [
    "print(\"Random weights.\")\n",
    "fig, axarr = plt.subplots(1, 10)\n",
    "for i in range(10):\n",
    "    axarr[i].imshow(np.array(weights_original[:, i]).reshape(28, 28), cmap=\"gray\")\n",
    "    axarr[i].axes.get_xaxis().set_visible(False)\n",
    "    axarr[i].axes.get_yaxis().set_visible(False)\n",
    "plt.show()\n",
    "\n",
    "print(\"Optimised weights.\")\n",
    "fig2, axarr2 = plt.subplots(1, 10)\n",
    "for i in range(10):\n",
    "    axarr2[i].imshow(np.array(weights_updated[:, i]).reshape(28, 28), cmap=\"gray\")\n",
    "    axarr2[i].axes.get_xaxis().set_visible(False)\n",
    "    axarr2[i].axes.get_yaxis().set_visible(False)\n",
    "plt.show()\n"
   ]
  }
 ],
 "metadata": {
  "kernelspec": {
   "display_name": "Python 2",
   "language": "python",
   "name": "python2"
  },
  "language_info": {
   "codemirror_mode": {
    "name": "ipython",
    "version": 2
   },
   "file_extension": ".py",
   "mimetype": "text/x-python",
   "name": "python",
   "nbconvert_exporter": "python",
   "pygments_lexer": "ipython2",
   "version": "2.7.12"
  }
 },
 "nbformat": 4,
 "nbformat_minor": 2
}
