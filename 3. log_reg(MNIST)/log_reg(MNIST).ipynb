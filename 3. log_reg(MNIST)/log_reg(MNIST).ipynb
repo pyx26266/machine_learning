{
 "cells": [
  {
   "cell_type": "markdown",
   "metadata": {},
   "source": [
    "![Tensorflow](https://www.tensorflow.org/images/apple-touch-icon-180x180.png \"Tensorflow\")\n",
    "\n",
    "## _Logistic Regression using Tensorflow and Tensorboard_\n",
    "> #### Using MNIST Dataset"
   ]
  },
  {
   "cell_type": "code",
   "execution_count": 1,
   "metadata": {
    "collapsed": true
   },
   "outputs": [],
   "source": [
    "import numpy as np\n",
    "import matplotlib.pyplot as plt\n",
    "import tensorflow as tf\n",
    "from tensorflow.examples.tutorials.mnist import input_data\n",
    "from __future__ import print_function"
   ]
  },
  {
   "cell_type": "code",
   "execution_count": 2,
   "metadata": {},
   "outputs": [
    {
     "name": "stdout",
     "output_type": "stream",
     "text": [
      "Extracting MNIST_data/train-images-idx3-ubyte.gz\n",
      "Extracting MNIST_data/train-labels-idx1-ubyte.gz\n",
      "Extracting MNIST_data/t10k-images-idx3-ubyte.gz\n",
      "Extracting MNIST_data/t10k-labels-idx1-ubyte.gz\n"
     ]
    }
   ],
   "source": [
    "mnist = input_data.read_data_sets(\"MNIST_data/\", one_hot=True)"
   ]
  },
  {
   "cell_type": "code",
   "execution_count": 3,
   "metadata": {},
   "outputs": [],
   "source": [
    "epoch = 2001\n",
    "learning_rate = 0.5"
   ]
  },
  {
   "cell_type": "code",
   "execution_count": 4,
   "metadata": {},
   "outputs": [],
   "source": [
    "X = tf.placeholder(dtype=tf.float32, shape=[None, 784], name='features')\n",
    "Y = tf.placeholder(dtype=tf.float32, shape=[None, 10], name='labels')\n",
    "\n",
    "W = tf.Variable(tf.random_normal([784, 10], mean=-0.1, stddev=0.5), name='weights')\n",
    "b = tf.Variable(tf.random_normal([10], mean=-0.1, stddev=0.5), name='bias')\n",
    "\n",
    "with tf.name_scope('predicted_label'):\n",
    "    # sigmoid(X * W + b)\n",
    "    y_pred = tf.add(tf.matmul(X, W), b)\n",
    "\n",
    "with tf.name_scope('cross_entropy'):\n",
    "    loss = tf.reduce_mean(tf.nn.softmax_cross_entropy_with_logits(logits=y_pred, labels=Y))\n",
    "    tf.summary.scalar('loss', loss)"
   ]
  },
  {
   "cell_type": "code",
   "execution_count": 5,
   "metadata": {
    "collapsed": true
   },
   "outputs": [],
   "source": [
    "optimizer = tf.train.GradientDescentOptimizer(learning_rate).minimize(loss)\n",
    "\n",
    "# Accuracy checking model\n",
    "with tf.name_scope('accuracy_check'):\n",
    "    correct_prediction = tf.equal(tf.argmax(y_pred, 1, name='maxOfPredicted'), \n",
    "                                        tf.argmax(Y, 1), name='maxOfBinLabel')\n",
    "    accuracy = tf.reduce_mean(tf.cast(correct_prediction, tf.float32))\n",
    "\n",
    "init = tf.global_variables_initializer()\n"
   ]
  },
  {
   "cell_type": "code",
   "execution_count": 6,
   "metadata": {
    "collapsed": true
   },
   "outputs": [],
   "source": [
    "merge = tf.summary.merge_all()\n",
    "writer = tf.summary.FileWriter('./tmp')"
   ]
  },
  {
   "cell_type": "code",
   "execution_count": 7,
   "metadata": {},
   "outputs": [
    {
     "name": "stdout",
     "output_type": "stream",
     "text": [
      "test accuracy =  91.0 %\n",
      "cross validation accuracy =  91.0 %\n"
     ]
    }
   ],
   "source": [
    "\n",
    "with tf.Session() as sess:\n",
    "    writer.add_graph(sess.graph)\n",
    "    sess.run(init)\n",
    "    for step in range(epoch):\n",
    "        batch_x, batch_y = mnist.train.next_batch(100)\n",
    "        _, summ = sess.run([optimizer, merge], feed_dict={\n",
    "            X: batch_x, Y: batch_y\n",
    "        })\n",
    "        writer.add_summary(summ, step)\n",
    "    fd_test = {X: mnist.test.images, Y: mnist.test.labels}\n",
    "    fd_cv = {X: mnist.validation.images, Y: mnist.validation.labels}\n",
    "    \n",
    "    print('test accuracy = ', np.round(sess.run(accuracy, fd_test)*100), '%')\n",
    "    print('cross validation accuracy = ', np.round(sess.run(accuracy, fd_cv)*100), '%')"
   ]
  }
 ],
 "metadata": {
  "kernelspec": {
   "display_name": "Python 2",
   "language": "python",
   "name": "python2"
  },
  "language_info": {
   "codemirror_mode": {
    "name": "ipython",
    "version": 2
   },
   "file_extension": ".py",
   "mimetype": "text/x-python",
   "name": "python",
   "nbconvert_exporter": "python",
   "pygments_lexer": "ipython2",
   "version": "2.7.12"
  }
 },
 "nbformat": 4,
 "nbformat_minor": 2
}
